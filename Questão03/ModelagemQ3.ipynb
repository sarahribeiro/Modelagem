{
 "cells": [
  {
   "cell_type": "code",
   "execution_count": 61,
   "id": "3bfb6c63",
   "metadata": {},
   "outputs": [],
   "source": [
    "import pyomo.environ as pe"
   ]
  },
  {
   "cell_type": "markdown",
   "id": "7bd09d2f",
   "metadata": {},
   "source": [
    "## Modelo Matemático:\n"
   ]
  },
  {
   "cell_type": "code",
   "execution_count": null,
   "id": "28316636",
   "metadata": {},
   "outputs": [],
   "source": []
  },
  {
   "cell_type": "markdown",
   "id": "1f6db5bc",
   "metadata": {},
   "source": [
    "## Implementação:"
   ]
  },
  {
   "cell_type": "code",
   "execution_count": 62,
   "id": "f3741f59",
   "metadata": {},
   "outputs": [],
   "source": [
    "model = pe.ConcreteModel()"
   ]
  },
  {
   "cell_type": "markdown",
   "id": "53ceaaea",
   "metadata": {},
   "source": [
    "#### Variáveis de decisão:"
   ]
  },
  {
   "cell_type": "code",
   "execution_count": 63,
   "id": "83f8876a",
   "metadata": {},
   "outputs": [],
   "source": [
    "M = 100\n",
    "\n",
    "model.x1 = pe.Var(domain=pe.Binary)\n",
    "model.x2 = pe.Var(domain=pe.Binary)\n",
    "model.x3 = pe.Var(domain=pe.Binary)\n",
    "model.x4 = pe.Var(domain=pe.Binary)\n",
    "model.x5 = pe.Var(domain=pe.Binary)\n",
    "model.x6 = pe.Var(domain=pe.Binary)\n",
    "\n",
    "model.y1 = pe.Var(domain=pe.Binary)\n",
    "model.y2 = pe.Var(domain=pe.Binary)\n",
    "model.y3 = pe.Var(domain=pe.Binary)\n",
    "model.y4 = pe.Var(domain=pe.Binary)\n",
    "model.y5 = pe.Var(domain=pe.Binary)\n",
    "model.y6 = pe.Var(domain=pe.Binary)"
   ]
  },
  {
   "cell_type": "code",
   "execution_count": 64,
   "id": "423580b5",
   "metadata": {},
   "outputs": [],
   "source": [
    "obj_expr = model.x1 + model.x2 + model.x3 + model.x4 + model.x5 + model.x6\n",
    "model.obj = pe.Objective(sense=pe.minimize, expr=obj_expr)"
   ]
  },
  {
   "cell_type": "code",
   "execution_count": 65,
   "id": "9022aedf",
   "metadata": {},
   "outputs": [],
   "source": [
    "#Restrições:\n",
    "res1 = model.y1 - M * model.x1 - M * model.x3 - M * model.x5 <= 0\n",
    "res2 = model.y2 - M * model.x2 - M * model.x4 - M * model.x6 <= 0\n",
    "res3 = model.y3 - M * model.x1 - M * model.x3 <= 0\n",
    "res4 = model.y4 - M * model.x2 - M * model.x4 <= 0\n",
    "res5 = model.y5 - M * model.x1 - M * model.x5 - M * model.x6 <= 0\n",
    "res6 = model.y6 - M * model.x2 - M * model.x5 - M * model.x6 <= 0\n",
    "res7 = model.y1 + model.y2 + model.y3 + model.y4 + model.y5 + model.y6 == 6"
   ]
  },
  {
   "cell_type": "code",
   "execution_count": 66,
   "id": "9373a620",
   "metadata": {},
   "outputs": [],
   "source": [
    "model.res1 = pe.Constraint(expr=res1)\n",
    "model.res2 = pe.Constraint(expr=res2)\n",
    "model.res3 = pe.Constraint(expr=res3)\n",
    "model.res4 = pe.Constraint(expr=res4)\n",
    "model.res5 = pe.Constraint(expr=res5)\n",
    "model.res6 = pe.Constraint(expr=res6)\n",
    "model.res7 = pe.Constraint(expr=res7)"
   ]
  },
  {
   "cell_type": "code",
   "execution_count": 67,
   "id": "5ee05bd3",
   "metadata": {},
   "outputs": [
    {
     "name": "stdout",
     "output_type": "stream",
     "text": [
      "12 Var Declarations\n",
      "    x1 : Size=1, Index=None\n",
      "        Key  : Lower : Value : Upper : Fixed : Stale : Domain\n",
      "        None :     0 :  None :     1 : False :  True : Binary\n",
      "    x2 : Size=1, Index=None\n",
      "        Key  : Lower : Value : Upper : Fixed : Stale : Domain\n",
      "        None :     0 :  None :     1 : False :  True : Binary\n",
      "    x3 : Size=1, Index=None\n",
      "        Key  : Lower : Value : Upper : Fixed : Stale : Domain\n",
      "        None :     0 :  None :     1 : False :  True : Binary\n",
      "    x4 : Size=1, Index=None\n",
      "        Key  : Lower : Value : Upper : Fixed : Stale : Domain\n",
      "        None :     0 :  None :     1 : False :  True : Binary\n",
      "    x5 : Size=1, Index=None\n",
      "        Key  : Lower : Value : Upper : Fixed : Stale : Domain\n",
      "        None :     0 :  None :     1 : False :  True : Binary\n",
      "    x6 : Size=1, Index=None\n",
      "        Key  : Lower : Value : Upper : Fixed : Stale : Domain\n",
      "        None :     0 :  None :     1 : False :  True : Binary\n",
      "    y1 : Size=1, Index=None\n",
      "        Key  : Lower : Value : Upper : Fixed : Stale : Domain\n",
      "        None :     0 :  None :     1 : False :  True : Binary\n",
      "    y2 : Size=1, Index=None\n",
      "        Key  : Lower : Value : Upper : Fixed : Stale : Domain\n",
      "        None :     0 :  None :     1 : False :  True : Binary\n",
      "    y3 : Size=1, Index=None\n",
      "        Key  : Lower : Value : Upper : Fixed : Stale : Domain\n",
      "        None :     0 :  None :     1 : False :  True : Binary\n",
      "    y4 : Size=1, Index=None\n",
      "        Key  : Lower : Value : Upper : Fixed : Stale : Domain\n",
      "        None :     0 :  None :     1 : False :  True : Binary\n",
      "    y5 : Size=1, Index=None\n",
      "        Key  : Lower : Value : Upper : Fixed : Stale : Domain\n",
      "        None :     0 :  None :     1 : False :  True : Binary\n",
      "    y6 : Size=1, Index=None\n",
      "        Key  : Lower : Value : Upper : Fixed : Stale : Domain\n",
      "        None :     0 :  None :     1 : False :  True : Binary\n",
      "\n",
      "1 Objective Declarations\n",
      "    obj : Size=1, Index=None, Active=True\n",
      "        Key  : Active : Sense    : Expression\n",
      "        None :   True : minimize : x1 + x2 + x3 + x4 + x5 + x6\n",
      "\n",
      "7 Constraint Declarations\n",
      "    res1 : Size=1, Index=None, Active=True\n",
      "        Key  : Lower : Body                          : Upper : Active\n",
      "        None :  -Inf : y1 - 100*x1 - 100*x3 - 100*x5 :   0.0 :   True\n",
      "    res2 : Size=1, Index=None, Active=True\n",
      "        Key  : Lower : Body                          : Upper : Active\n",
      "        None :  -Inf : y2 - 100*x2 - 100*x4 - 100*x6 :   0.0 :   True\n",
      "    res3 : Size=1, Index=None, Active=True\n",
      "        Key  : Lower : Body                 : Upper : Active\n",
      "        None :  -Inf : y3 - 100*x1 - 100*x3 :   0.0 :   True\n",
      "    res4 : Size=1, Index=None, Active=True\n",
      "        Key  : Lower : Body                 : Upper : Active\n",
      "        None :  -Inf : y4 - 100*x2 - 100*x4 :   0.0 :   True\n",
      "    res5 : Size=1, Index=None, Active=True\n",
      "        Key  : Lower : Body                          : Upper : Active\n",
      "        None :  -Inf : y5 - 100*x1 - 100*x5 - 100*x6 :   0.0 :   True\n",
      "    res6 : Size=1, Index=None, Active=True\n",
      "        Key  : Lower : Body                          : Upper : Active\n",
      "        None :  -Inf : y6 - 100*x2 - 100*x5 - 100*x6 :   0.0 :   True\n",
      "    res7 : Size=1, Index=None, Active=True\n",
      "        Key  : Lower : Body                        : Upper : Active\n",
      "        None :   6.0 : y1 + y2 + y3 + y4 + y5 + y6 :   6.0 :   True\n",
      "\n",
      "20 Declarations: x1 x2 x3 x4 x5 x6 y1 y2 y3 y4 y5 y6 obj res1 res2 res3 res4 res5 res6 res7\n"
     ]
    }
   ],
   "source": [
    "model.pprint()"
   ]
  },
  {
   "cell_type": "code",
   "execution_count": 68,
   "id": "f9957c2a",
   "metadata": {},
   "outputs": [],
   "source": [
    "resultado = pe.SolverFactory('glpk').solve(model)"
   ]
  },
  {
   "cell_type": "code",
   "execution_count": 69,
   "id": "575d71a3",
   "metadata": {},
   "outputs": [
    {
     "name": "stdout",
     "output_type": "stream",
     "text": [
      "# ==========================================================\n",
      "# = Solver Results                                         =\n",
      "# ==========================================================\n",
      "# ----------------------------------------------------------\n",
      "#   Problem Information\n",
      "# ----------------------------------------------------------\n",
      "Problem: \n",
      "- Name: unknown\n",
      "  Lower bound: 2.0\n",
      "  Upper bound: 2.0\n",
      "  Number of objectives: 1\n",
      "  Number of constraints: 8\n",
      "  Number of variables: 13\n",
      "  Number of nonzeros: 29\n",
      "  Sense: minimize\n",
      "# ----------------------------------------------------------\n",
      "#   Solver Information\n",
      "# ----------------------------------------------------------\n",
      "Solver: \n",
      "- Status: ok\n",
      "  Termination condition: optimal\n",
      "  Statistics: \n",
      "    Branch and bound: \n",
      "      Number of bounded subproblems: 1\n",
      "      Number of created subproblems: 1\n",
      "  Error rc: 0\n",
      "  Time: 0.011744499206542969\n",
      "# ----------------------------------------------------------\n",
      "#   Solution Information\n",
      "# ----------------------------------------------------------\n",
      "Solution: \n",
      "- number of solutions: 0\n",
      "  number of solutions displayed: 0\n"
     ]
    }
   ],
   "source": [
    "resultado.write()"
   ]
  },
  {
   "cell_type": "code",
   "execution_count": 70,
   "id": "d817be89",
   "metadata": {},
   "outputs": [
    {
     "data": {
      "text/plain": [
       "2.0"
      ]
     },
     "execution_count": 70,
     "metadata": {},
     "output_type": "execute_result"
    }
   ],
   "source": [
    "model.obj()"
   ]
  },
  {
   "cell_type": "code",
   "execution_count": 71,
   "id": "6c64bba4",
   "metadata": {},
   "outputs": [
    {
     "name": "stdout",
     "output_type": "stream",
     "text": [
      "X1 = 1.0\n",
      "X2 = 1.0\n",
      "X3 = 0.0\n",
      "X4 = 0.0\n",
      "X5 = 0.0\n",
      "X6 = 0.0\n"
     ]
    }
   ],
   "source": [
    "print(\"X1 = \"+str(model.x1()))\n",
    "print(\"X2 = \"+str(model.x2()))\n",
    "print(\"X3 = \"+str(model.x3()))\n",
    "print(\"X4 = \"+str(model.x4()))\n",
    "print(\"X5 = \"+str(model.x5()))\n",
    "print(\"X6 = \"+str(model.x6()))"
   ]
  },
  {
   "cell_type": "code",
   "execution_count": null,
   "id": "2d985e20",
   "metadata": {},
   "outputs": [],
   "source": []
  }
 ],
 "metadata": {
  "kernelspec": {
   "display_name": "Python 3 (ipykernel)",
   "language": "python",
   "name": "python3"
  },
  "language_info": {
   "codemirror_mode": {
    "name": "ipython",
    "version": 3
   },
   "file_extension": ".py",
   "mimetype": "text/x-python",
   "name": "python",
   "nbconvert_exporter": "python",
   "pygments_lexer": "ipython3",
   "version": "3.9.5"
  }
 },
 "nbformat": 4,
 "nbformat_minor": 5
}
