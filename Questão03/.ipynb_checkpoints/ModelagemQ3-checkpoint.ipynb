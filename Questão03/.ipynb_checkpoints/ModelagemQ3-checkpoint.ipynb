{
 "cells": [
  {
   "cell_type": "markdown",
   "id": "7bd09d2f",
   "metadata": {},
   "source": [
    "# Resolução Questão 03:"
   ]
  },
  {
   "cell_type": "markdown",
   "id": "0a166190",
   "metadata": {},
   "source": [
    "## Modelo Matemático:"
   ]
  },
  {
   "cell_type": "markdown",
   "id": "1f6db5bc",
   "metadata": {},
   "source": [
    "### Variáveis de decisão: "
   ]
  },
  {
   "cell_type": "markdown",
   "id": "ef46cc3d",
   "metadata": {},
   "source": [
    "$$ \\forall\\:i= 1,2, ..., 6: \\; x_i = \\begin{cases} 1, & \\mbox{se uma central de atendimento é instalada na zona i}\\\\ 0, & \\mbox{caso contrário} \\end{cases}$$\n",
    "\n",
    "$$ \\forall\\:i= 1,2, ..., 6: \\; y_i = \\begin{cases} 1, & \\mbox{se a zona i é coberta por alguma central de atendimento}\\\\ 0, & \\mbox{caso contrário} \\end{cases}$$"
   ]
  },
  {
   "cell_type": "markdown",
   "id": "495e9f6b",
   "metadata": {},
   "source": [
    "### Função Objetivo: \n",
    "<p>\n",
    "O objetivo do problema é minimizar a quantidade de centrais de atendimentos distribuiídas nas zonas, devendo no entanto, cobrir toda a região em um raio de 15 minutos.\n",
    "<p>\n",
    "    $$ \\mbox{min}\\:z = \\sum\\limits_{i=1}^6 x_i$$"
   ]
  },
  {
   "cell_type": "markdown",
   "id": "8608ff38",
   "metadata": {},
   "source": [
    "### Restrições: \n",
    "<p>\n",
    "As equações abaixo verificam se cada zona i é coberta por alguma central de atendimento (ou seja, aquelas que estão à menos de 15 minutos). Para isso, utilizou-se  estratégia do BigM, que se traduz em uma restrição ativada ou desativada. Isso significa que, se caso alguma central seja instalada em uma zona que esteja a menos de 15 minutos da zona de interesse, então esta última receberá o valor 1. \n",
    "<p>\n",
    "A zona 1, por exemplo, será atendida apenas se uma central for construída nas zonas 1, 2 ou 5. As demais restrições podem ser interpretadas forma análoga.\n",
    "    \n",
    "$$y_1 \\leq M(x_1 + x_3 + x_5)$$\n",
    "$$y_2 \\leq M(x_2 + x_4 + x_6)$$\n",
    "$$y_3 \\leq M(x_1 + x_3)$$\n",
    "$$y_4 \\leq M(x_2 + x_4)$$\n",
    "$$y_5 \\leq M(x_1 + x_5 + x_6)$$\n",
    "$$y_6 \\leq M(x_2 + x_5 + x_6)$$\n",
    "<p>\n",
    "A última restrição exige que todas as zonas seja cobertas por alguma central de atendimento\n",
    "$$y_1 + y_2 + y_3 + y_4 + y_5 = 6$$\n",
    "<p>\n",
    "$$y_i, x_i \\in \\mathbb{B}, \\forall i=1,2,...7.$$"
   ]
  },
  {
   "cell_type": "markdown",
   "id": "c1d409da",
   "metadata": {},
   "source": [
    "## Implementação:"
   ]
  },
  {
   "cell_type": "code",
   "execution_count": 6,
   "id": "3bfb6c63",
   "metadata": {},
   "outputs": [],
   "source": [
    "import pyomo.environ as pe"
   ]
  },
  {
   "cell_type": "code",
   "execution_count": 7,
   "id": "f3741f59",
   "metadata": {},
   "outputs": [],
   "source": [
    "model = pe.ConcreteModel()"
   ]
  },
  {
   "cell_type": "markdown",
   "id": "53ceaaea",
   "metadata": {},
   "source": [
    "#### Variáveis de decisão:"
   ]
  },
  {
   "cell_type": "code",
   "execution_count": 8,
   "id": "83f8876a",
   "metadata": {},
   "outputs": [],
   "source": [
    "M = 100\n",
    "\n",
    "model.x1 = pe.Var(domain=pe.Binary)\n",
    "model.x2 = pe.Var(domain=pe.Binary)\n",
    "model.x3 = pe.Var(domain=pe.Binary)\n",
    "model.x4 = pe.Var(domain=pe.Binary)\n",
    "model.x5 = pe.Var(domain=pe.Binary)\n",
    "model.x6 = pe.Var(domain=pe.Binary)\n",
    "\n",
    "model.y1 = pe.Var(domain=pe.Binary)\n",
    "model.y2 = pe.Var(domain=pe.Binary)\n",
    "model.y3 = pe.Var(domain=pe.Binary)\n",
    "model.y4 = pe.Var(domain=pe.Binary)\n",
    "model.y5 = pe.Var(domain=pe.Binary)\n",
    "model.y6 = pe.Var(domain=pe.Binary)"
   ]
  },
  {
   "cell_type": "markdown",
   "id": "075a3f6a",
   "metadata": {},
   "source": [
    "#### Função Objetivo:"
   ]
  },
  {
   "cell_type": "code",
   "execution_count": 9,
   "id": "423580b5",
   "metadata": {},
   "outputs": [],
   "source": [
    "obj_expr = model.x1 + model.x2 + model.x3 + model.x4 + model.x5 + model.x6\n",
    "model.obj = pe.Objective(sense=pe.minimize, expr=obj_expr)"
   ]
  },
  {
   "cell_type": "markdown",
   "id": "6da1dec0",
   "metadata": {},
   "source": [
    "#### Restrições:\n"
   ]
  },
  {
   "cell_type": "code",
   "execution_count": 10,
   "id": "9022aedf",
   "metadata": {},
   "outputs": [],
   "source": [
    "#Restrições:\n",
    "res1 = model.y1 - M * model.x1 - M * model.x3 - M * model.x5 <= 0\n",
    "res2 = model.y2 - M * model.x2 - M * model.x4 - M * model.x6 <= 0\n",
    "res3 = model.y3 - M * model.x1 - M * model.x3 <= 0\n",
    "res4 = model.y4 - M * model.x2 - M * model.x4 <= 0\n",
    "res5 = model.y5 - M * model.x1 - M * model.x5 - M * model.x6 <= 0\n",
    "res6 = model.y6 - M * model.x2 - M * model.x5 - M * model.x6 <= 0\n",
    "res7 = model.y1 + model.y2 + model.y3 + model.y4 + model.y5 + model.y6 == 6\n",
    "\n",
    "model.res1 = pe.Constraint(expr=res1)\n",
    "model.res2 = pe.Constraint(expr=res2)\n",
    "model.res3 = pe.Constraint(expr=res3)\n",
    "model.res4 = pe.Constraint(expr=res4)\n",
    "model.res5 = pe.Constraint(expr=res5)\n",
    "model.res6 = pe.Constraint(expr=res6)\n",
    "model.res7 = pe.Constraint(expr=res7)"
   ]
  },
  {
   "cell_type": "code",
   "execution_count": 11,
   "id": "5ee05bd3",
   "metadata": {},
   "outputs": [
    {
     "name": "stdout",
     "output_type": "stream",
     "text": [
      "12 Var Declarations\n",
      "    x1 : Size=1, Index=None\n",
      "        Key  : Lower : Value : Upper : Fixed : Stale : Domain\n",
      "        None :     0 :  None :     1 : False :  True : Binary\n",
      "    x2 : Size=1, Index=None\n",
      "        Key  : Lower : Value : Upper : Fixed : Stale : Domain\n",
      "        None :     0 :  None :     1 : False :  True : Binary\n",
      "    x3 : Size=1, Index=None\n",
      "        Key  : Lower : Value : Upper : Fixed : Stale : Domain\n",
      "        None :     0 :  None :     1 : False :  True : Binary\n",
      "    x4 : Size=1, Index=None\n",
      "        Key  : Lower : Value : Upper : Fixed : Stale : Domain\n",
      "        None :     0 :  None :     1 : False :  True : Binary\n",
      "    x5 : Size=1, Index=None\n",
      "        Key  : Lower : Value : Upper : Fixed : Stale : Domain\n",
      "        None :     0 :  None :     1 : False :  True : Binary\n",
      "    x6 : Size=1, Index=None\n",
      "        Key  : Lower : Value : Upper : Fixed : Stale : Domain\n",
      "        None :     0 :  None :     1 : False :  True : Binary\n",
      "    y1 : Size=1, Index=None\n",
      "        Key  : Lower : Value : Upper : Fixed : Stale : Domain\n",
      "        None :     0 :  None :     1 : False :  True : Binary\n",
      "    y2 : Size=1, Index=None\n",
      "        Key  : Lower : Value : Upper : Fixed : Stale : Domain\n",
      "        None :     0 :  None :     1 : False :  True : Binary\n",
      "    y3 : Size=1, Index=None\n",
      "        Key  : Lower : Value : Upper : Fixed : Stale : Domain\n",
      "        None :     0 :  None :     1 : False :  True : Binary\n",
      "    y4 : Size=1, Index=None\n",
      "        Key  : Lower : Value : Upper : Fixed : Stale : Domain\n",
      "        None :     0 :  None :     1 : False :  True : Binary\n",
      "    y5 : Size=1, Index=None\n",
      "        Key  : Lower : Value : Upper : Fixed : Stale : Domain\n",
      "        None :     0 :  None :     1 : False :  True : Binary\n",
      "    y6 : Size=1, Index=None\n",
      "        Key  : Lower : Value : Upper : Fixed : Stale : Domain\n",
      "        None :     0 :  None :     1 : False :  True : Binary\n",
      "\n",
      "1 Objective Declarations\n",
      "    obj : Size=1, Index=None, Active=True\n",
      "        Key  : Active : Sense    : Expression\n",
      "        None :   True : minimize : x1 + x2 + x3 + x4 + x5 + x6\n",
      "\n",
      "7 Constraint Declarations\n",
      "    res1 : Size=1, Index=None, Active=True\n",
      "        Key  : Lower : Body                          : Upper : Active\n",
      "        None :  -Inf : y1 - 100*x1 - 100*x3 - 100*x5 :   0.0 :   True\n",
      "    res2 : Size=1, Index=None, Active=True\n",
      "        Key  : Lower : Body                          : Upper : Active\n",
      "        None :  -Inf : y2 - 100*x2 - 100*x4 - 100*x6 :   0.0 :   True\n",
      "    res3 : Size=1, Index=None, Active=True\n",
      "        Key  : Lower : Body                 : Upper : Active\n",
      "        None :  -Inf : y3 - 100*x1 - 100*x3 :   0.0 :   True\n",
      "    res4 : Size=1, Index=None, Active=True\n",
      "        Key  : Lower : Body                 : Upper : Active\n",
      "        None :  -Inf : y4 - 100*x2 - 100*x4 :   0.0 :   True\n",
      "    res5 : Size=1, Index=None, Active=True\n",
      "        Key  : Lower : Body                          : Upper : Active\n",
      "        None :  -Inf : y5 - 100*x1 - 100*x5 - 100*x6 :   0.0 :   True\n",
      "    res6 : Size=1, Index=None, Active=True\n",
      "        Key  : Lower : Body                          : Upper : Active\n",
      "        None :  -Inf : y6 - 100*x2 - 100*x5 - 100*x6 :   0.0 :   True\n",
      "    res7 : Size=1, Index=None, Active=True\n",
      "        Key  : Lower : Body                        : Upper : Active\n",
      "        None :   6.0 : y1 + y2 + y3 + y4 + y5 + y6 :   6.0 :   True\n",
      "\n",
      "20 Declarations: x1 x2 x3 x4 x5 x6 y1 y2 y3 y4 y5 y6 obj res1 res2 res3 res4 res5 res6 res7\n"
     ]
    }
   ],
   "source": [
    "model.pprint()"
   ]
  },
  {
   "cell_type": "code",
   "execution_count": 12,
   "id": "f9957c2a",
   "metadata": {},
   "outputs": [],
   "source": [
    "resultado = pe.SolverFactory('glpk').solve(model)"
   ]
  },
  {
   "cell_type": "code",
   "execution_count": 13,
   "id": "575d71a3",
   "metadata": {},
   "outputs": [
    {
     "name": "stdout",
     "output_type": "stream",
     "text": [
      "# ==========================================================\n",
      "# = Solver Results                                         =\n",
      "# ==========================================================\n",
      "# ----------------------------------------------------------\n",
      "#   Problem Information\n",
      "# ----------------------------------------------------------\n",
      "Problem: \n",
      "- Name: unknown\n",
      "  Lower bound: 2.0\n",
      "  Upper bound: 2.0\n",
      "  Number of objectives: 1\n",
      "  Number of constraints: 8\n",
      "  Number of variables: 13\n",
      "  Number of nonzeros: 29\n",
      "  Sense: minimize\n",
      "# ----------------------------------------------------------\n",
      "#   Solver Information\n",
      "# ----------------------------------------------------------\n",
      "Solver: \n",
      "- Status: ok\n",
      "  Termination condition: optimal\n",
      "  Statistics: \n",
      "    Branch and bound: \n",
      "      Number of bounded subproblems: 1\n",
      "      Number of created subproblems: 1\n",
      "  Error rc: 0\n",
      "  Time: 0.016988515853881836\n",
      "# ----------------------------------------------------------\n",
      "#   Solution Information\n",
      "# ----------------------------------------------------------\n",
      "Solution: \n",
      "- number of solutions: 0\n",
      "  number of solutions displayed: 0\n"
     ]
    }
   ],
   "source": [
    "resultado.write()"
   ]
  },
  {
   "cell_type": "markdown",
   "id": "4d87af7d",
   "metadata": {},
   "source": [
    "## Resultados"
   ]
  },
  {
   "cell_type": "code",
   "execution_count": 15,
   "id": "d817be89",
   "metadata": {},
   "outputs": [
    {
     "name": "stdout",
     "output_type": "stream",
     "text": [
      "Número de centrais de atendimento instaladas: 2.0\n"
     ]
    }
   ],
   "source": [
    "print(\"Número de centrais de atendimento instaladas: \"+str(model.obj()))"
   ]
  },
  {
   "cell_type": "code",
   "execution_count": 16,
   "id": "6c64bba4",
   "metadata": {},
   "outputs": [
    {
     "name": "stdout",
     "output_type": "stream",
     "text": [
      "Central 1 = 1.0\n",
      "Central 2 = 1.0\n",
      "Central 3 = 0.0\n",
      "Central 4 = 0.0\n",
      "Central 5 = 0.0\n",
      "Central 6 = 0.0\n"
     ]
    }
   ],
   "source": [
    "print(\"Central 1 = \"+str(model.x1()))\n",
    "print(\"Central 2 = \"+str(model.x2()))\n",
    "print(\"Central 3 = \"+str(model.x3()))\n",
    "print(\"Central 4 = \"+str(model.x4()))\n",
    "print(\"Central 5 = \"+str(model.x5()))\n",
    "print(\"Central 6 = \"+str(model.x6()))"
   ]
  },
  {
   "cell_type": "code",
   "execution_count": null,
   "id": "2d985e20",
   "metadata": {},
   "outputs": [],
   "source": []
  }
 ],
 "metadata": {
  "kernelspec": {
   "display_name": "Python 3 (ipykernel)",
   "language": "python",
   "name": "python3"
  },
  "language_info": {
   "codemirror_mode": {
    "name": "ipython",
    "version": 3
   },
   "file_extension": ".py",
   "mimetype": "text/x-python",
   "name": "python",
   "nbconvert_exporter": "python",
   "pygments_lexer": "ipython3",
   "version": "3.9.5"
  }
 },
 "nbformat": 4,
 "nbformat_minor": 5
}
