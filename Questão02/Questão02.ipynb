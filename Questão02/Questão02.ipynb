{
 "cells": [
  {
   "cell_type": "markdown",
   "id": "04219d64",
   "metadata": {},
   "source": [
    "# Resolução Questão 02:"
   ]
  },
  {
   "cell_type": "markdown",
   "id": "76c6908f",
   "metadata": {},
   "source": [
    "## Modelo Matemático:\n"
   ]
  },
  {
   "cell_type": "markdown",
   "id": "22c15469",
   "metadata": {},
   "source": [
    "### Variáveis de decisão: "
   ]
  },
  {
   "cell_type": "markdown",
   "id": "74dbb409",
   "metadata": {},
   "source": [
    " $$ x_i  = \\mbox{quantidade de produtos produzidos no mês i}, \\: \\forall i = 1,2, ..., 6.$$\n",
    " $$ e_i  = \\mbox{quantidade de produtos estocados no mês i, oriundoS do excedente do mês} \\: (i-1), \\: \\forall i = 1,2, ..., 7.$$"
   ]
  },
  {
   "cell_type": "markdown",
   "id": "29cd6162",
   "metadata": {},
   "source": [
    "### Função Objetivo: \n",
    "<p>\n",
    "O objetivo do problema é minimizar o custo total de produção, dado pelos custos unitários de produção e estocagem. Esse objetivo pode ser traduzido pela equação abaixo:\n",
    "<p>\n",
    "    $$ \\mbox{min}\\:z = (\\sum\\limits_{i=1}^7 8e_i) + 50x_1 + 45x_2 + 55x_3 + 48x_4 +52x_5 + 50x_6 $$"
   ]
  },
  {
   "cell_type": "markdown",
   "id": "682a6f68",
   "metadata": {},
   "source": [
    "### Restrições: \n",
    "<p>\n",
    "As restrições abaixo impõem que não haja estoque nos períodos 1 e 7, uma vez que no mês 1 a produção inicia-se sem estoque, e no mês 6 tudo o que é produzido e estocado do mês anterior é vendido (ou de forma análoga, o mês 7 inicia-se sem estoque/excedente), respectivamente.\n",
    "<p>\n",
    "\n",
    "$$e_1 =0$$\n",
    "$$e_7 =0$$\n",
    "\n",
    "As restrições abaixo referem-se ao cálculo dos estoques de cada mês, que consistem no estoque do período anterior somado à quantidade produzida no mesmo período, subtraídos da quantidade vendida (dada pela demanda) do mês anterior.    \n",
    "<p>\n",
    "$$e_2 = e_1 + x1 - 100$$\n",
    "$$e_3 = e_2 + x2 - 250$$\n",
    "$$e_4 = e_3 + x3 - 190$$\n",
    "$$e_5 = e_4 + x4 - 140$$\n",
    "$$e_6 = e_5 + x5 - 220$$\n",
    "$$e_7 = e_6 + x6 - 110$$\n",
    "    \n",
    "<p>\n",
    "As últimas restrições exigem que a quantidade produzida em cada mês, somada ao respectivo estoque, seja sempre igual ou superior à demanda do período.\n",
    "    \n",
    "$$e_1 + x_1 \\geq 100$$\n",
    "$$e_2 + x_2 \\geq 250$$\n",
    "$$e_3 + x_3 \\geq 190$$\n",
    "$$e_4 + x_4 \\geq 140$$\n",
    "$$e_5 + x_5 \\geq 220$$\n",
    "$$e_6 + x_6 \\geq 110$$\n",
    "    \n",
    "<p>\n",
    "$$e_i \\in \\mathbb{R}$$\n",
    "$$x_i \\in \\mathbb{R}$$"
   ]
  },
  {
   "cell_type": "markdown",
   "id": "5cdccd1a",
   "metadata": {},
   "source": [
    "## Implementação:"
   ]
  },
  {
   "cell_type": "code",
   "execution_count": 63,
   "id": "5928c4e7",
   "metadata": {},
   "outputs": [],
   "source": [
    "import pyomo.environ as pe"
   ]
  },
  {
   "cell_type": "code",
   "execution_count": 64,
   "id": "726ecef1",
   "metadata": {},
   "outputs": [],
   "source": [
    "model = pe.ConcreteModel()"
   ]
  },
  {
   "cell_type": "markdown",
   "id": "04970e0f",
   "metadata": {},
   "source": [
    "#### Variáveis de decisão"
   ]
  },
  {
   "cell_type": "code",
   "execution_count": 65,
   "id": "0c8c224f",
   "metadata": {},
   "outputs": [],
   "source": [
    "## Produção\n",
    "model.x1 = pe.Var(domain=pe.NonNegativeReals)\n",
    "model.x2 = pe.Var(domain=pe.NonNegativeReals)\n",
    "model.x3 = pe.Var(domain=pe.NonNegativeReals)\n",
    "model.x4 = pe.Var(domain=pe.NonNegativeReals)\n",
    "model.x5 = pe.Var(domain=pe.NonNegativeReals)\n",
    "model.x6 = pe.Var(domain=pe.NonNegativeReals)\n",
    "\n",
    "## Estocagem\n",
    "model.e1 = pe.Var(domain=pe.NonNegativeReals)  \n",
    "model.e2 = pe.Var(domain=pe.NonNegativeReals) \n",
    "model.e3 = pe.Var(domain=pe.NonNegativeReals) \n",
    "model.e4 = pe.Var(domain=pe.NonNegativeReals)\n",
    "model.e5 = pe.Var(domain=pe.NonNegativeReals)\n",
    "model.e6 = pe.Var(domain=pe.NonNegativeReals)\n",
    "model.e7 = pe.Var(domain=pe.NonNegativeReals)"
   ]
  },
  {
   "cell_type": "markdown",
   "id": "f265bbd6",
   "metadata": {},
   "source": [
    "#### Função objetivo:\n"
   ]
  },
  {
   "cell_type": "code",
   "execution_count": 66,
   "id": "31cabdc5",
   "metadata": {},
   "outputs": [],
   "source": [
    "obj_expr = 50*model.x1 + 45*model.x2 + 55*model.x3 + 48*model.x4 + 52*model.x5 + 50*model.x6 + 8*model.e1 + 8*model.e2 + 8*model.e3 + 8*model.e4 + 8*model.e5 + 8*model.e6 \n",
    "\n",
    "model.obj = pe.Objective(sense=pe.minimize, expr=obj_expr)"
   ]
  },
  {
   "cell_type": "markdown",
   "id": "04c5a0bc",
   "metadata": {},
   "source": [
    "#### Restrições:"
   ]
  },
  {
   "cell_type": "code",
   "execution_count": 67,
   "id": "5d5e3c73",
   "metadata": {},
   "outputs": [],
   "source": [
    "res_1 = model.e1 == 0\n",
    "res_2 = model.e1 + model.x1 - 100 == model.e2\n",
    "res_3 = model.e2 + model.x2 - 250 == model.e3\n",
    "res_4 = model.e3 + model.x3 - 190 == model.e4\n",
    "res_5 = model.e4 + model.x4 - 140 == model.e5\n",
    "res_6 = model.e5 + model.x5 - 220 == model.e6\n",
    "res_7 = model.e6 + model.x6 - 110 == model.e7\n",
    "res_8 = model.e7 == 0\n",
    "\n",
    "res_9 = (model.e1 + model.x1) -100 >= 0\n",
    "res_10 = (model.e2 + model.x2) -250 >= 0\n",
    "res_11 = (model.e3 + model.x3) -190 >= 0\n",
    "res_12 = (model.e4 + model.x4) -140 >= 0\n",
    "res_13 = (model.e5 + model.x5) -220 >= 0\n",
    "res_14 = (model.e6 + model.x6) -110 >= 0\n",
    "\n",
    "## Modelo \n",
    "model.res1 = pe.Constraint(expr=res_1)\n",
    "model.res2 = pe.Constraint(expr=res_2)\n",
    "model.res3 = pe.Constraint(expr=res_3)\n",
    "model.res4 = pe.Constraint(expr=res_4)\n",
    "model.res5 = pe.Constraint(expr=res_5)\n",
    "model.res6 = pe.Constraint(expr=res_6)\n",
    "model.res7 = pe.Constraint(expr=res_7)\n",
    "model.res8 = pe.Constraint(expr=res_8)\n",
    "model.res9 = pe.Constraint(expr=res_9)\n",
    "model.res10 = pe.Constraint(expr=res_10)\n",
    "model.res11 = pe.Constraint(expr=res_11)\n",
    "model.res12 = pe.Constraint(expr=res_12)\n",
    "model.res13 = pe.Constraint(expr=res_13)\n",
    "model.res14 = pe.Constraint(expr=res_14)"
   ]
  },
  {
   "cell_type": "code",
   "execution_count": 68,
   "id": "03d235fd",
   "metadata": {},
   "outputs": [
    {
     "name": "stdout",
     "output_type": "stream",
     "text": [
      "13 Var Declarations\n",
      "    e1 : Size=1, Index=None\n",
      "        Key  : Lower : Value : Upper : Fixed : Stale : Domain\n",
      "        None :     0 :  None :  None : False :  True : NonNegativeReals\n",
      "    e2 : Size=1, Index=None\n",
      "        Key  : Lower : Value : Upper : Fixed : Stale : Domain\n",
      "        None :     0 :  None :  None : False :  True : NonNegativeReals\n",
      "    e3 : Size=1, Index=None\n",
      "        Key  : Lower : Value : Upper : Fixed : Stale : Domain\n",
      "        None :     0 :  None :  None : False :  True : NonNegativeReals\n",
      "    e4 : Size=1, Index=None\n",
      "        Key  : Lower : Value : Upper : Fixed : Stale : Domain\n",
      "        None :     0 :  None :  None : False :  True : NonNegativeReals\n",
      "    e5 : Size=1, Index=None\n",
      "        Key  : Lower : Value : Upper : Fixed : Stale : Domain\n",
      "        None :     0 :  None :  None : False :  True : NonNegativeReals\n",
      "    e6 : Size=1, Index=None\n",
      "        Key  : Lower : Value : Upper : Fixed : Stale : Domain\n",
      "        None :     0 :  None :  None : False :  True : NonNegativeReals\n",
      "    e7 : Size=1, Index=None\n",
      "        Key  : Lower : Value : Upper : Fixed : Stale : Domain\n",
      "        None :     0 :  None :  None : False :  True : NonNegativeReals\n",
      "    x1 : Size=1, Index=None\n",
      "        Key  : Lower : Value : Upper : Fixed : Stale : Domain\n",
      "        None :     0 :  None :  None : False :  True : NonNegativeReals\n",
      "    x2 : Size=1, Index=None\n",
      "        Key  : Lower : Value : Upper : Fixed : Stale : Domain\n",
      "        None :     0 :  None :  None : False :  True : NonNegativeReals\n",
      "    x3 : Size=1, Index=None\n",
      "        Key  : Lower : Value : Upper : Fixed : Stale : Domain\n",
      "        None :     0 :  None :  None : False :  True : NonNegativeReals\n",
      "    x4 : Size=1, Index=None\n",
      "        Key  : Lower : Value : Upper : Fixed : Stale : Domain\n",
      "        None :     0 :  None :  None : False :  True : NonNegativeReals\n",
      "    x5 : Size=1, Index=None\n",
      "        Key  : Lower : Value : Upper : Fixed : Stale : Domain\n",
      "        None :     0 :  None :  None : False :  True : NonNegativeReals\n",
      "    x6 : Size=1, Index=None\n",
      "        Key  : Lower : Value : Upper : Fixed : Stale : Domain\n",
      "        None :     0 :  None :  None : False :  True : NonNegativeReals\n",
      "\n",
      "1 Objective Declarations\n",
      "    obj : Size=1, Index=None, Active=True\n",
      "        Key  : Active : Sense    : Expression\n",
      "        None :   True : minimize : 50*x1 + 45*x2 + 55*x3 + 48*x4 + 52*x5 + 50*x6 + 8*e1 + 8*e2 + 8*e3 + 8*e4 + 8*e5 + 8*e6\n",
      "\n",
      "14 Constraint Declarations\n",
      "    res1 : Size=1, Index=None, Active=True\n",
      "        Key  : Lower : Body : Upper : Active\n",
      "        None :   0.0 :   e1 :   0.0 :   True\n",
      "    res10 : Size=1, Index=None, Active=True\n",
      "        Key  : Lower : Body          : Upper : Active\n",
      "        None :   0.0 : e2 + x2 - 250 :  +Inf :   True\n",
      "    res11 : Size=1, Index=None, Active=True\n",
      "        Key  : Lower : Body          : Upper : Active\n",
      "        None :   0.0 : e3 + x3 - 190 :  +Inf :   True\n",
      "    res12 : Size=1, Index=None, Active=True\n",
      "        Key  : Lower : Body          : Upper : Active\n",
      "        None :   0.0 : e4 + x4 - 140 :  +Inf :   True\n",
      "    res13 : Size=1, Index=None, Active=True\n",
      "        Key  : Lower : Body          : Upper : Active\n",
      "        None :   0.0 : e5 + x5 - 220 :  +Inf :   True\n",
      "    res14 : Size=1, Index=None, Active=True\n",
      "        Key  : Lower : Body          : Upper : Active\n",
      "        None :   0.0 : e6 + x6 - 110 :  +Inf :   True\n",
      "    res2 : Size=1, Index=None, Active=True\n",
      "        Key  : Lower : Body               : Upper : Active\n",
      "        None :   0.0 : e1 + x1 - 100 - e2 :   0.0 :   True\n",
      "    res3 : Size=1, Index=None, Active=True\n",
      "        Key  : Lower : Body               : Upper : Active\n",
      "        None :   0.0 : e2 + x2 - 250 - e3 :   0.0 :   True\n",
      "    res4 : Size=1, Index=None, Active=True\n",
      "        Key  : Lower : Body               : Upper : Active\n",
      "        None :   0.0 : e3 + x3 - 190 - e4 :   0.0 :   True\n",
      "    res5 : Size=1, Index=None, Active=True\n",
      "        Key  : Lower : Body               : Upper : Active\n",
      "        None :   0.0 : e4 + x4 - 140 - e5 :   0.0 :   True\n",
      "    res6 : Size=1, Index=None, Active=True\n",
      "        Key  : Lower : Body               : Upper : Active\n",
      "        None :   0.0 : e5 + x5 - 220 - e6 :   0.0 :   True\n",
      "    res7 : Size=1, Index=None, Active=True\n",
      "        Key  : Lower : Body               : Upper : Active\n",
      "        None :   0.0 : e6 + x6 - 110 - e7 :   0.0 :   True\n",
      "    res8 : Size=1, Index=None, Active=True\n",
      "        Key  : Lower : Body : Upper : Active\n",
      "        None :   0.0 :   e7 :   0.0 :   True\n",
      "    res9 : Size=1, Index=None, Active=True\n",
      "        Key  : Lower : Body          : Upper : Active\n",
      "        None :   0.0 : e1 + x1 - 100 :  +Inf :   True\n",
      "\n",
      "28 Declarations: x1 x2 x3 x4 x5 x6 e1 e2 e3 e4 e5 e6 e7 obj res1 res2 res3 res4 res5 res6 res7 res8 res9 res10 res11 res12 res13 res14\n"
     ]
    }
   ],
   "source": [
    "model.pprint()"
   ]
  },
  {
   "cell_type": "code",
   "execution_count": 69,
   "id": "d1087ce3",
   "metadata": {},
   "outputs": [],
   "source": [
    "resultado = pe.SolverFactory('glpk').solve(model)"
   ]
  },
  {
   "cell_type": "code",
   "execution_count": 70,
   "id": "535261c1",
   "metadata": {},
   "outputs": [
    {
     "name": "stdout",
     "output_type": "stream",
     "text": [
      "# ==========================================================\n",
      "# = Solver Results                                         =\n",
      "# ==========================================================\n",
      "# ----------------------------------------------------------\n",
      "#   Problem Information\n",
      "# ----------------------------------------------------------\n",
      "Problem: \n",
      "- Name: unknown\n",
      "  Lower bound: 49980.0\n",
      "  Upper bound: 49980.0\n",
      "  Number of objectives: 1\n",
      "  Number of constraints: 15\n",
      "  Number of variables: 14\n",
      "  Number of nonzeros: 33\n",
      "  Sense: minimize\n",
      "# ----------------------------------------------------------\n",
      "#   Solver Information\n",
      "# ----------------------------------------------------------\n",
      "Solver: \n",
      "- Status: ok\n",
      "  Termination condition: optimal\n",
      "  Statistics: \n",
      "    Branch and bound: \n",
      "      Number of bounded subproblems: 0\n",
      "      Number of created subproblems: 0\n",
      "  Error rc: 0\n",
      "  Time: 0.011589765548706055\n",
      "# ----------------------------------------------------------\n",
      "#   Solution Information\n",
      "# ----------------------------------------------------------\n",
      "Solution: \n",
      "- number of solutions: 0\n",
      "  number of solutions displayed: 0\n"
     ]
    }
   ],
   "source": [
    "resultado.write()"
   ]
  },
  {
   "cell_type": "markdown",
   "id": "7bb499c1",
   "metadata": {},
   "source": [
    "## Resultados: "
   ]
  },
  {
   "cell_type": "code",
   "execution_count": 71,
   "id": "3ea677b6",
   "metadata": {},
   "outputs": [
    {
     "name": "stdout",
     "output_type": "stream",
     "text": [
      "Custo de produção: 49980.0\n",
      "Quantidade produzida no mês 1 = 100.0\n",
      "Quantidade produzida no mês 2 = 440.0\n",
      "Quantidade produzida no mês 3 = 0.0\n",
      "Quantidade produzida no mês 4 = 140.0\n",
      "Quantidade produzida no mês 5 = 220.0\n",
      "Quantidade produzida no mês 6 = 110.0\n"
     ]
    }
   ],
   "source": [
    "## Printando o resultado ##\n",
    "print(\"Custo de produção: \"+str(model.obj()))\n",
    "\n",
    "print(\"Quantidade produzida no mês 1 = \"+str(model.x1()))\n",
    "print(\"Quantidade produzida no mês 2 = \"+str(model.x2()))\n",
    "print(\"Quantidade produzida no mês 3 = \"+str(model.x3()))\n",
    "print(\"Quantidade produzida no mês 4 = \"+str(model.x4()))\n",
    "print(\"Quantidade produzida no mês 5 = \"+str(model.x5()))\n",
    "print(\"Quantidade produzida no mês 6 = \"+str(model.x6()))"
   ]
  },
  {
   "cell_type": "code",
   "execution_count": 72,
   "id": "99a5d03d",
   "metadata": {},
   "outputs": [
    {
     "name": "stdout",
     "output_type": "stream",
     "text": [
      "Quantidade de estoque no mês 1 = 0.0\n",
      "Quantidade de estoque no mês 2 = 0.0\n",
      "Quantidade de estoque no mês 3 = 190.0\n",
      "Quantidade de estoque no mês 4 = 0.0\n",
      "Quantidade de estoque no mês 5 = 0.0\n",
      "Quantidade de estoque no mês 6 = 0.0\n",
      "Quantidade de estoque no mês 7 = 0.0\n"
     ]
    }
   ],
   "source": [
    "print(\"Quantidade de estoque no mês 1 = \"+str(model.e1()))\n",
    "print(\"Quantidade de estoque no mês 2 = \"+str(model.e2()))\n",
    "print(\"Quantidade de estoque no mês 3 = \"+str(model.e3()))\n",
    "print(\"Quantidade de estoque no mês 4 = \"+str(model.e4()))\n",
    "print(\"Quantidade de estoque no mês 5 = \"+str(model.e5()))\n",
    "print(\"Quantidade de estoque no mês 6 = \"+str(model.e6()))\n",
    "print(\"Quantidade de estoque no mês 7 = \"+str(model.e7()))"
   ]
  },
  {
   "cell_type": "code",
   "execution_count": null,
   "id": "1bf84661",
   "metadata": {},
   "outputs": [],
   "source": []
  }
 ],
 "metadata": {
  "kernelspec": {
   "display_name": "Python 3 (ipykernel)",
   "language": "python",
   "name": "python3"
  },
  "language_info": {
   "codemirror_mode": {
    "name": "ipython",
    "version": 3
   },
   "file_extension": ".py",
   "mimetype": "text/x-python",
   "name": "python",
   "nbconvert_exporter": "python",
   "pygments_lexer": "ipython3",
   "version": "3.9.5"
  }
 },
 "nbformat": 4,
 "nbformat_minor": 5
}
