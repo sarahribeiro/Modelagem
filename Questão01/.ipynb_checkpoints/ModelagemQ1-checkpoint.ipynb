{
 "cells": [
  {
   "cell_type": "markdown",
   "id": "9059deba",
   "metadata": {},
   "source": [
    "# Resolução Questão 01:"
   ]
  },
  {
   "cell_type": "markdown",
   "id": "7bd09d2f",
   "metadata": {},
   "source": [
    "## Modelo Matemático:\n"
   ]
  },
  {
   "cell_type": "markdown",
   "id": "89e1f1dd",
   "metadata": {},
   "source": [
    "### Variáveis de decisão: "
   ]
  },
  {
   "cell_type": "markdown",
   "id": "fa2dd8b0",
   "metadata": {},
   "source": [
    " $$ y_i  = \\mbox{quantidade de atendentes alocados na escala de trabalho i,} \\: \\forall i = 1,2, ..., 6.$$\n",
    " <p>\n",
    "$$\\mbox{onde:}$$\n",
    "$$y_1 : \\mbox{Segunda à Sexta}$$\n",
    "$$y_2 : \\mbox{Terça à Sábado}$$\n",
    "$$y_3 : \\mbox{Quarta à Domingo}$$\n",
    "$$y_4 : \\mbox{Quinta à Segunda}$$\n",
    "$$y_5 : \\mbox{Sexta à Terça}$$\n",
    "$$y_6 : \\mbox{Sábado à Quarta}$$\n",
    "$$y_7 : \\mbox{Domingo à Quinta}$$\n",
    "    \n",
    "    \n",
    "    \n"
   ]
  },
  {
   "cell_type": "markdown",
   "id": "b189d9b5",
   "metadata": {},
   "source": [
    "### Função Objetivo: \n",
    "<p>\n",
    "O objetivo do problema é minimizar a quantidade de atendentes em cada guichê, respeitando a demanda diária e as escalas de trabalho. Esse objetivo pode ser traduzido pela equação abaixo:"
   ]
  },
  {
   "cell_type": "markdown",
   "id": "cf8c00e7",
   "metadata": {},
   "source": [
    "$$ \\mbox{min}\\:z = \\sum\\limits_{i=1}^7 y_i$$"
   ]
  },
  {
   "cell_type": "markdown",
   "id": "63133189",
   "metadata": {},
   "source": [
    "### Restrições: \n",
    "<p>\n",
    "Cada escala de trabalho contempla um conjunto de dias específicos. As escalas 1, 4, 5, 6 e 7, por exemplo, passam pela segunda- feira. Dessa forma, a quantidade de atendentes na segunda-feria, dada pela quantidade individual de atendentes em cada escala de trabalho, deve ser igual ou superior ao número de atendentes exigidos. As demais restrições podem ser entendidasde forma análoga"
   ]
  },
  {
   "cell_type": "markdown",
   "id": "970f36cc",
   "metadata": {},
   "source": [
    "\n",
    "$$ \\mbox{Seg: }y_1 + y_4 + y_5 + y_6 + y_7 -17 \\geq 0$$\n",
    "$$ \\mbox{Qua: }y_1 + y_2 + y_5 + y_6 + y_7 -13 \\geq 0$$\n",
    "$$ \\mbox{Qui: }y_1 + y_2 + y_3 + y_6 + y_7 -15 \\geq 0$$\n",
    "$$ \\mbox{Qui: }y_1 + y_2 + y_3 + y_4 + y_7 -19 \\geq 0$$\n",
    "$$ \\mbox{Sex: }y_1 + y_2 + y_3 + y_4 + y_5 -14 \\geq 0$$\n",
    "$$ \\mbox{Sab: }y_2 + y_3 + y_4 + y_5 + y_6 -16 \\geq 0$$\n",
    "$$ \\mbox{Dom: }y_3 + y_4 + y_5 + y_6 + y_7 -11 \\geq 0$$\n",
    "<p>\n",
    "$$y_i \\in \\mathbb{Z}^+, \\forall i=1,2,...7.$$"
   ]
  },
  {
   "cell_type": "markdown",
   "id": "1f6db5bc",
   "metadata": {},
   "source": [
    "## Implementação:"
   ]
  },
  {
   "cell_type": "code",
   "execution_count": 20,
   "id": "3bfb6c63",
   "metadata": {},
   "outputs": [],
   "source": [
    "# importando pacotes\n",
    "import pyomo.environ as pe"
   ]
  },
  {
   "cell_type": "code",
   "execution_count": 21,
   "id": "f3741f59",
   "metadata": {},
   "outputs": [],
   "source": [
    "# Instanciando um modelo concreto\n",
    "model = pe.ConcreteModel()"
   ]
  },
  {
   "cell_type": "markdown",
   "id": "53ceaaea",
   "metadata": {},
   "source": [
    "#### Variáveis de decisão:"
   ]
  },
  {
   "cell_type": "code",
   "execution_count": 22,
   "id": "83f8876a",
   "metadata": {},
   "outputs": [],
   "source": [
    "model.y1 = pe.Var(domain=pe.PositiveIntegers)\n",
    "model.y2 = pe.Var(domain=pe.PositiveIntegers)\n",
    "model.y3 = pe.Var(domain=pe.PositiveIntegers)\n",
    "model.y4 = pe.Var(domain=pe.PositiveIntegers)\n",
    "model.y5 = pe.Var(domain=pe.PositiveIntegers)\n",
    "model.y6 = pe.Var(domain=pe.PositiveIntegers)\n",
    "model.y7 = pe.Var(domain=pe.PositiveIntegers)"
   ]
  },
  {
   "cell_type": "markdown",
   "id": "213a8891",
   "metadata": {},
   "source": [
    "#### Função Objetivo:"
   ]
  },
  {
   "cell_type": "code",
   "execution_count": 23,
   "id": "423580b5",
   "metadata": {},
   "outputs": [],
   "source": [
    "obj_expr = model.y1 + model.y2 + model.y3 + model.y4 + model.y5 + model.y6 + model.y7\n",
    "model.obj = pe.Objective(sense=pe.minimize, expr=obj_expr)"
   ]
  },
  {
   "cell_type": "markdown",
   "id": "865537e8",
   "metadata": {},
   "source": [
    "#### Restrições:"
   ]
  },
  {
   "cell_type": "code",
   "execution_count": 24,
   "id": "9022aedf",
   "metadata": {},
   "outputs": [],
   "source": [
    "\n",
    "#seg\n",
    "res1 = model.y1 + model.y4 + model.y5 + model.y6 + model.y7 -17 >= 0\n",
    "#ter\n",
    "res2 = model.y1 + model.y2 + model.y5 + model.y6 + model.y7 -13 >= 0\n",
    "#qua\n",
    "res3 = model.y1 + model.y2 + model.y3 + model.y6 + model.y7 -15 >= 0\n",
    "#qui\n",
    "res4 = model.y1 + model.y2 + model.y3 + model.y4 + model.y7 -19 >= 0\n",
    "#sex\n",
    "res5 = model.y1 + model.y2 + model.y3 + model.y4 + model.y5 -14 >= 0\n",
    "#sab\n",
    "res6 = model.y2 + model.y3 + model.y4 + model.y5 + model.y6 -16 >= 0\n",
    "#dom\n",
    "res7 = model.y3 + model.y4 + model.y5 + model.y6 + model.y7 -11 >= 0\n",
    "\n",
    "model.res1 = pe.Constraint(expr=res1)\n",
    "model.res2 = pe.Constraint(expr=res2)\n",
    "model.res3 = pe.Constraint(expr=res3)\n",
    "model.res4 = pe.Constraint(expr=res4)\n",
    "model.res5 = pe.Constraint(expr=res5)\n",
    "model.res6 = pe.Constraint(expr=res6)\n",
    "model.res7 = pe.Constraint(expr=res7)"
   ]
  },
  {
   "cell_type": "code",
   "execution_count": 25,
   "id": "5ee05bd3",
   "metadata": {},
   "outputs": [
    {
     "name": "stdout",
     "output_type": "stream",
     "text": [
      "7 Var Declarations\n",
      "    y1 : Size=1, Index=None\n",
      "        Key  : Lower : Value : Upper : Fixed : Stale : Domain\n",
      "        None :     1 :  None :  None : False :  True : PositiveIntegers\n",
      "    y2 : Size=1, Index=None\n",
      "        Key  : Lower : Value : Upper : Fixed : Stale : Domain\n",
      "        None :     1 :  None :  None : False :  True : PositiveIntegers\n",
      "    y3 : Size=1, Index=None\n",
      "        Key  : Lower : Value : Upper : Fixed : Stale : Domain\n",
      "        None :     1 :  None :  None : False :  True : PositiveIntegers\n",
      "    y4 : Size=1, Index=None\n",
      "        Key  : Lower : Value : Upper : Fixed : Stale : Domain\n",
      "        None :     1 :  None :  None : False :  True : PositiveIntegers\n",
      "    y5 : Size=1, Index=None\n",
      "        Key  : Lower : Value : Upper : Fixed : Stale : Domain\n",
      "        None :     1 :  None :  None : False :  True : PositiveIntegers\n",
      "    y6 : Size=1, Index=None\n",
      "        Key  : Lower : Value : Upper : Fixed : Stale : Domain\n",
      "        None :     1 :  None :  None : False :  True : PositiveIntegers\n",
      "    y7 : Size=1, Index=None\n",
      "        Key  : Lower : Value : Upper : Fixed : Stale : Domain\n",
      "        None :     1 :  None :  None : False :  True : PositiveIntegers\n",
      "\n",
      "1 Objective Declarations\n",
      "    obj : Size=1, Index=None, Active=True\n",
      "        Key  : Active : Sense    : Expression\n",
      "        None :   True : minimize : y1 + y2 + y3 + y4 + y5 + y6 + y7\n",
      "\n",
      "7 Constraint Declarations\n",
      "    res1 : Size=1, Index=None, Active=True\n",
      "        Key  : Lower : Body                        : Upper : Active\n",
      "        None :   0.0 : y1 + y4 + y5 + y6 + y7 - 17 :  +Inf :   True\n",
      "    res2 : Size=1, Index=None, Active=True\n",
      "        Key  : Lower : Body                        : Upper : Active\n",
      "        None :   0.0 : y1 + y2 + y5 + y6 + y7 - 13 :  +Inf :   True\n",
      "    res3 : Size=1, Index=None, Active=True\n",
      "        Key  : Lower : Body                        : Upper : Active\n",
      "        None :   0.0 : y1 + y2 + y3 + y6 + y7 - 15 :  +Inf :   True\n",
      "    res4 : Size=1, Index=None, Active=True\n",
      "        Key  : Lower : Body                        : Upper : Active\n",
      "        None :   0.0 : y1 + y2 + y3 + y4 + y7 - 19 :  +Inf :   True\n",
      "    res5 : Size=1, Index=None, Active=True\n",
      "        Key  : Lower : Body                        : Upper : Active\n",
      "        None :   0.0 : y1 + y2 + y3 + y4 + y5 - 14 :  +Inf :   True\n",
      "    res6 : Size=1, Index=None, Active=True\n",
      "        Key  : Lower : Body                        : Upper : Active\n",
      "        None :   0.0 : y2 + y3 + y4 + y5 + y6 - 16 :  +Inf :   True\n",
      "    res7 : Size=1, Index=None, Active=True\n",
      "        Key  : Lower : Body                        : Upper : Active\n",
      "        None :   0.0 : y3 + y4 + y5 + y6 + y7 - 11 :  +Inf :   True\n",
      "\n",
      "15 Declarations: y1 y2 y3 y4 y5 y6 y7 obj res1 res2 res3 res4 res5 res6 res7\n"
     ]
    }
   ],
   "source": [
    "model.pprint()"
   ]
  },
  {
   "cell_type": "code",
   "execution_count": 26,
   "id": "f9957c2a",
   "metadata": {},
   "outputs": [],
   "source": [
    "resultado = pe.SolverFactory('glpk').solve(model)"
   ]
  },
  {
   "cell_type": "code",
   "execution_count": 27,
   "id": "575d71a3",
   "metadata": {},
   "outputs": [
    {
     "name": "stdout",
     "output_type": "stream",
     "text": [
      "# ==========================================================\n",
      "# = Solver Results                                         =\n",
      "# ==========================================================\n",
      "# ----------------------------------------------------------\n",
      "#   Problem Information\n",
      "# ----------------------------------------------------------\n",
      "Problem: \n",
      "- Name: unknown\n",
      "  Lower bound: 23.0\n",
      "  Upper bound: 23.0\n",
      "  Number of objectives: 1\n",
      "  Number of constraints: 8\n",
      "  Number of variables: 8\n",
      "  Number of nonzeros: 36\n",
      "  Sense: minimize\n",
      "# ----------------------------------------------------------\n",
      "#   Solver Information\n",
      "# ----------------------------------------------------------\n",
      "Solver: \n",
      "- Status: ok\n",
      "  Termination condition: optimal\n",
      "  Statistics: \n",
      "    Branch and bound: \n",
      "      Number of bounded subproblems: 5\n",
      "      Number of created subproblems: 5\n",
      "  Error rc: 0\n",
      "  Time: 0.012498140335083008\n",
      "# ----------------------------------------------------------\n",
      "#   Solution Information\n",
      "# ----------------------------------------------------------\n",
      "Solution: \n",
      "- number of solutions: 0\n",
      "  number of solutions displayed: 0\n"
     ]
    }
   ],
   "source": [
    "resultado.write()"
   ]
  },
  {
   "cell_type": "markdown",
   "id": "d49a1623",
   "metadata": {},
   "source": [
    "## Resultados: "
   ]
  },
  {
   "cell_type": "code",
   "execution_count": 28,
   "id": "6c64bba4",
   "metadata": {},
   "outputs": [
    {
     "name": "stdout",
     "output_type": "stream",
     "text": [
      "Número ótimo de atendentes: 23.0\n",
      "Número de funcionários alocados na escala de trabalho 1 = 5.0\n",
      "Número de funcionários alocados na escala de trabalho 2 = 2.0\n",
      "Número de funcionários alocados na escala de trabalho 3 = 4.0\n",
      "Número de funcionários alocados na escala de trabalho 4 = 6.0\n",
      "Número de funcionários alocados na escala de trabalho 5 = 2.0\n",
      "Número de funcionários alocados na escala de trabalho 6 = 2.0\n",
      "Número de funcionários alocados na escala de trabalho 7 = 2.0\n"
     ]
    }
   ],
   "source": [
    "print(\"Número ótimo de atendentes: \"+str(model.obj()))\n",
    "print(\"Número de funcionários alocados na escala de trabalho 1 = \"+str(model.y1()))\n",
    "print(\"Número de funcionários alocados na escala de trabalho 2 = \"+str(model.y2()))\n",
    "print(\"Número de funcionários alocados na escala de trabalho 3 = \"+str(model.y3()))\n",
    "print(\"Número de funcionários alocados na escala de trabalho 4 = \"+str(model.y4()))\n",
    "print(\"Número de funcionários alocados na escala de trabalho 5 = \"+str(model.y5()))\n",
    "print(\"Número de funcionários alocados na escala de trabalho 6 = \"+str(model.y6()))\n",
    "print(\"Número de funcionários alocados na escala de trabalho 7 = \"+str(model.y7()))"
   ]
  }
 ],
 "metadata": {
  "kernelspec": {
   "display_name": "Python 3 (ipykernel)",
   "language": "python",
   "name": "python3"
  },
  "language_info": {
   "codemirror_mode": {
    "name": "ipython",
    "version": 3
   },
   "file_extension": ".py",
   "mimetype": "text/x-python",
   "name": "python",
   "nbconvert_exporter": "python",
   "pygments_lexer": "ipython3",
   "version": "3.9.5"
  }
 },
 "nbformat": 4,
 "nbformat_minor": 5
}
