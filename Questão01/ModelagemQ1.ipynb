{
 "cells": [
  {
   "cell_type": "code",
   "execution_count": 22,
   "id": "3bfb6c63",
   "metadata": {},
   "outputs": [],
   "source": [
    "import pyomo.environ as pe"
   ]
  },
  {
   "cell_type": "markdown",
   "id": "7bd09d2f",
   "metadata": {},
   "source": [
    "## Modelo Matemático:\n"
   ]
  },
  {
   "cell_type": "code",
   "execution_count": null,
   "id": "28316636",
   "metadata": {},
   "outputs": [],
   "source": []
  },
  {
   "cell_type": "markdown",
   "id": "1f6db5bc",
   "metadata": {},
   "source": [
    "## Implementação:"
   ]
  },
  {
   "cell_type": "code",
   "execution_count": 23,
   "id": "f3741f59",
   "metadata": {},
   "outputs": [],
   "source": [
    "model = pe.ConcreteModel()"
   ]
  },
  {
   "cell_type": "markdown",
   "id": "53ceaaea",
   "metadata": {},
   "source": [
    "#### Variáveis de decisão:"
   ]
  },
  {
   "cell_type": "code",
   "execution_count": 24,
   "id": "83f8876a",
   "metadata": {},
   "outputs": [],
   "source": [
    "model.y1 = pe.Var(domain=pe.PositiveIntegers)\n",
    "model.y2 = pe.Var(domain=pe.PositiveIntegers)\n",
    "model.y3 = pe.Var(domain=pe.PositiveIntegers)\n",
    "model.y4 = pe.Var(domain=pe.PositiveIntegers)\n",
    "model.y5 = pe.Var(domain=pe.PositiveIntegers)\n",
    "model.y6 = pe.Var(domain=pe.PositiveIntegers)\n",
    "model.y7 = pe.Var(domain=pe.PositiveIntegers)"
   ]
  },
  {
   "cell_type": "code",
   "execution_count": 25,
   "id": "423580b5",
   "metadata": {},
   "outputs": [],
   "source": [
    "obj_expr = model.y1 + model.y2 + model.y3 + model.y4 + model.y5 + model.y6 + model.y7\n",
    "model.obj = pe.Objective(sense=pe.minimize, expr=obj_expr)"
   ]
  },
  {
   "cell_type": "code",
   "execution_count": 26,
   "id": "9022aedf",
   "metadata": {},
   "outputs": [],
   "source": [
    "#Restrições:\n",
    "#seg\n",
    "res1 = model.y1 + model.y4 + model.y5 + model.y6 + model.y7 -17 >= 0\n",
    "#ter\n",
    "res2 = model.y1 + model.y2 + model.y5 + model.y6 + model.y7 -13 >= 0\n",
    "#qua\n",
    "res3 = model.y1 + model.y2 + model.y3 + model.y6 + model.y7 -15 >= 0\n",
    "#qui\n",
    "res4 = model.y1 + model.y2 + model.y3 + model.y4 + model.y7 -19 >= 0\n",
    "#sex\n",
    "res5 = model.y1 + model.y2 + model.y3 + model.y4 + model.y5 -14 >= 0\n",
    "#sab\n",
    "res6 = model.y2 + model.y3 + model.y4 + model.y5 + model.y6 -16 >= 0\n",
    "#dom\n",
    "res7 = model.y3 + model.y4 + model.y5 + model.y6 + model.y7 -11 >= 0\n"
   ]
  },
  {
   "cell_type": "code",
   "execution_count": 27,
   "id": "9373a620",
   "metadata": {},
   "outputs": [],
   "source": [
    "model.res1 = pe.Constraint(expr=res1)\n",
    "model.res2 = pe.Constraint(expr=res2)\n",
    "model.res3 = pe.Constraint(expr=res3)\n",
    "model.res4 = pe.Constraint(expr=res4)\n",
    "model.res5 = pe.Constraint(expr=res5)\n",
    "model.res6 = pe.Constraint(expr=res6)\n",
    "model.res7 = pe.Constraint(expr=res7)"
   ]
  },
  {
   "cell_type": "code",
   "execution_count": 28,
   "id": "5ee05bd3",
   "metadata": {},
   "outputs": [
    {
     "name": "stdout",
     "output_type": "stream",
     "text": [
      "7 Var Declarations\n",
      "    y1 : Size=1, Index=None\n",
      "        Key  : Lower : Value : Upper : Fixed : Stale : Domain\n",
      "        None :     1 :  None :  None : False :  True : PositiveIntegers\n",
      "    y2 : Size=1, Index=None\n",
      "        Key  : Lower : Value : Upper : Fixed : Stale : Domain\n",
      "        None :     1 :  None :  None : False :  True : PositiveIntegers\n",
      "    y3 : Size=1, Index=None\n",
      "        Key  : Lower : Value : Upper : Fixed : Stale : Domain\n",
      "        None :     1 :  None :  None : False :  True : PositiveIntegers\n",
      "    y4 : Size=1, Index=None\n",
      "        Key  : Lower : Value : Upper : Fixed : Stale : Domain\n",
      "        None :     1 :  None :  None : False :  True : PositiveIntegers\n",
      "    y5 : Size=1, Index=None\n",
      "        Key  : Lower : Value : Upper : Fixed : Stale : Domain\n",
      "        None :     1 :  None :  None : False :  True : PositiveIntegers\n",
      "    y6 : Size=1, Index=None\n",
      "        Key  : Lower : Value : Upper : Fixed : Stale : Domain\n",
      "        None :     1 :  None :  None : False :  True : PositiveIntegers\n",
      "    y7 : Size=1, Index=None\n",
      "        Key  : Lower : Value : Upper : Fixed : Stale : Domain\n",
      "        None :     1 :  None :  None : False :  True : PositiveIntegers\n",
      "\n",
      "1 Objective Declarations\n",
      "    obj : Size=1, Index=None, Active=True\n",
      "        Key  : Active : Sense    : Expression\n",
      "        None :   True : minimize : y1 + y2 + y3 + y4 + y5 + y6 + y7\n",
      "\n",
      "7 Constraint Declarations\n",
      "    res1 : Size=1, Index=None, Active=True\n",
      "        Key  : Lower : Body                        : Upper : Active\n",
      "        None :   0.0 : y1 + y4 + y5 + y6 + y7 - 17 :  +Inf :   True\n",
      "    res2 : Size=1, Index=None, Active=True\n",
      "        Key  : Lower : Body                        : Upper : Active\n",
      "        None :   0.0 : y1 + y2 + y5 + y6 + y7 - 13 :  +Inf :   True\n",
      "    res3 : Size=1, Index=None, Active=True\n",
      "        Key  : Lower : Body                        : Upper : Active\n",
      "        None :   0.0 : y1 + y2 + y3 + y6 + y7 - 15 :  +Inf :   True\n",
      "    res4 : Size=1, Index=None, Active=True\n",
      "        Key  : Lower : Body                        : Upper : Active\n",
      "        None :   0.0 : y1 + y2 + y3 + y4 + y7 - 19 :  +Inf :   True\n",
      "    res5 : Size=1, Index=None, Active=True\n",
      "        Key  : Lower : Body                        : Upper : Active\n",
      "        None :   0.0 : y1 + y2 + y3 + y4 + y5 - 14 :  +Inf :   True\n",
      "    res6 : Size=1, Index=None, Active=True\n",
      "        Key  : Lower : Body                        : Upper : Active\n",
      "        None :   0.0 : y2 + y3 + y4 + y5 + y6 - 16 :  +Inf :   True\n",
      "    res7 : Size=1, Index=None, Active=True\n",
      "        Key  : Lower : Body                        : Upper : Active\n",
      "        None :   0.0 : y3 + y4 + y5 + y6 + y7 - 11 :  +Inf :   True\n",
      "\n",
      "15 Declarations: y1 y2 y3 y4 y5 y6 y7 obj res1 res2 res3 res4 res5 res6 res7\n"
     ]
    }
   ],
   "source": [
    "model.pprint()"
   ]
  },
  {
   "cell_type": "code",
   "execution_count": 29,
   "id": "f9957c2a",
   "metadata": {},
   "outputs": [],
   "source": [
    "resultado = pe.SolverFactory('glpk').solve(model)"
   ]
  },
  {
   "cell_type": "code",
   "execution_count": 30,
   "id": "575d71a3",
   "metadata": {},
   "outputs": [
    {
     "name": "stdout",
     "output_type": "stream",
     "text": [
      "# ==========================================================\n",
      "# = Solver Results                                         =\n",
      "# ==========================================================\n",
      "# ----------------------------------------------------------\n",
      "#   Problem Information\n",
      "# ----------------------------------------------------------\n",
      "Problem: \n",
      "- Name: unknown\n",
      "  Lower bound: 23.0\n",
      "  Upper bound: 23.0\n",
      "  Number of objectives: 1\n",
      "  Number of constraints: 8\n",
      "  Number of variables: 8\n",
      "  Number of nonzeros: 36\n",
      "  Sense: minimize\n",
      "# ----------------------------------------------------------\n",
      "#   Solver Information\n",
      "# ----------------------------------------------------------\n",
      "Solver: \n",
      "- Status: ok\n",
      "  Termination condition: optimal\n",
      "  Statistics: \n",
      "    Branch and bound: \n",
      "      Number of bounded subproblems: 5\n",
      "      Number of created subproblems: 5\n",
      "  Error rc: 0\n",
      "  Time: 0.01247406005859375\n",
      "# ----------------------------------------------------------\n",
      "#   Solution Information\n",
      "# ----------------------------------------------------------\n",
      "Solution: \n",
      "- number of solutions: 0\n",
      "  number of solutions displayed: 0\n"
     ]
    }
   ],
   "source": [
    "resultado.write()"
   ]
  },
  {
   "cell_type": "code",
   "execution_count": 34,
   "id": "6c64bba4",
   "metadata": {},
   "outputs": [
    {
     "name": "stdout",
     "output_type": "stream",
     "text": [
      "Objetivo: 23.0\n",
      "Y1 = 5.0\n",
      "Y2 = 2.0\n",
      "Y3 = 4.0\n",
      "Y4 = 6.0\n",
      "Y5 = 2.0\n",
      "Y6 = 2.0\n"
     ]
    }
   ],
   "source": [
    "print(\"Objetivo: \"+str(model.obj()))\n",
    "print(\"Y1 = \"+str(model.y1()))\n",
    "print(\"Y2 = \"+str(model.y2()))\n",
    "print(\"Y3 = \"+str(model.y3()))\n",
    "print(\"Y4 = \"+str(model.y4()))\n",
    "print(\"Y5 = \"+str(model.y5()))\n",
    "print(\"Y6 = \"+str(model.y6()))"
   ]
  },
  {
   "cell_type": "code",
   "execution_count": null,
   "id": "2d985e20",
   "metadata": {},
   "outputs": [],
   "source": []
  }
 ],
 "metadata": {
  "kernelspec": {
   "display_name": "Python 3 (ipykernel)",
   "language": "python",
   "name": "python3"
  },
  "language_info": {
   "codemirror_mode": {
    "name": "ipython",
    "version": 3
   },
   "file_extension": ".py",
   "mimetype": "text/x-python",
   "name": "python",
   "nbconvert_exporter": "python",
   "pygments_lexer": "ipython3",
   "version": "3.9.5"
  }
 },
 "nbformat": 4,
 "nbformat_minor": 5
}
